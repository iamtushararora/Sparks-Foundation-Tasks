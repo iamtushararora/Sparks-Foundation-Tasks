{
  "nbformat": 4,
  "nbformat_minor": 0,
  "metadata": {
    "colab": {
      "name": "iris_data.ipynb",
      "provenance": []
    },
    "kernelspec": {
      "name": "python3",
      "display_name": "Python 3"
    }
  },
  "cells": [
    {
      "cell_type": "markdown",
      "metadata": {
        "id": "qvRdbcQaYYHF"
      },
      "source": [
        "# The Sparks Foundation\n",
        "##Task-2 Predict the optimum number of cluster on iris dataset\n",
        "\n",
        "![](https://s3.amazonaws.com/assets.datacamp.com/blog_assets/Machine+Learning+R/iris-machinelearning.png)\n",
        "\n",
        "\n",
        "\n",
        "\n"
      ]
    },
    {
      "cell_type": "markdown",
      "metadata": {
        "id": "F3h8Hm94YupF"
      },
      "source": [
        "import the libraries"
      ]
    },
    {
      "cell_type": "code",
      "metadata": {
        "id": "q9PCFwvkXhjI"
      },
      "source": [
        "import numpy as np\n",
        "import pandas as pd\n",
        "import matplotlib.pyplot as plt"
      ],
      "execution_count": 11,
      "outputs": []
    },
    {
      "cell_type": "markdown",
      "metadata": {
        "id": "Jfxzk-WzY30H"
      },
      "source": [
        "load the iris dataset"
      ]
    },
    {
      "cell_type": "code",
      "metadata": {
        "colab": {
          "base_uri": "https://localhost:8080/",
          "height": 203
        },
        "id": "POJWCW8jY3Ih",
        "outputId": "d7c91148-8a36-4536-d24a-86b0beccf412"
      },
      "source": [
        "from sklearn import datasets\n",
        "iris = datasets.load_iris()\n",
        "data = pd.DataFrame(iris.data, columns = iris.feature_names)\n",
        "data.head()"
      ],
      "execution_count": 12,
      "outputs": [
        {
          "output_type": "execute_result",
          "data": {
            "text/html": [
              "<div>\n",
              "<style scoped>\n",
              "    .dataframe tbody tr th:only-of-type {\n",
              "        vertical-align: middle;\n",
              "    }\n",
              "\n",
              "    .dataframe tbody tr th {\n",
              "        vertical-align: top;\n",
              "    }\n",
              "\n",
              "    .dataframe thead th {\n",
              "        text-align: right;\n",
              "    }\n",
              "</style>\n",
              "<table border=\"1\" class=\"dataframe\">\n",
              "  <thead>\n",
              "    <tr style=\"text-align: right;\">\n",
              "      <th></th>\n",
              "      <th>sepal length (cm)</th>\n",
              "      <th>sepal width (cm)</th>\n",
              "      <th>petal length (cm)</th>\n",
              "      <th>petal width (cm)</th>\n",
              "    </tr>\n",
              "  </thead>\n",
              "  <tbody>\n",
              "    <tr>\n",
              "      <th>0</th>\n",
              "      <td>5.1</td>\n",
              "      <td>3.5</td>\n",
              "      <td>1.4</td>\n",
              "      <td>0.2</td>\n",
              "    </tr>\n",
              "    <tr>\n",
              "      <th>1</th>\n",
              "      <td>4.9</td>\n",
              "      <td>3.0</td>\n",
              "      <td>1.4</td>\n",
              "      <td>0.2</td>\n",
              "    </tr>\n",
              "    <tr>\n",
              "      <th>2</th>\n",
              "      <td>4.7</td>\n",
              "      <td>3.2</td>\n",
              "      <td>1.3</td>\n",
              "      <td>0.2</td>\n",
              "    </tr>\n",
              "    <tr>\n",
              "      <th>3</th>\n",
              "      <td>4.6</td>\n",
              "      <td>3.1</td>\n",
              "      <td>1.5</td>\n",
              "      <td>0.2</td>\n",
              "    </tr>\n",
              "    <tr>\n",
              "      <th>4</th>\n",
              "      <td>5.0</td>\n",
              "      <td>3.6</td>\n",
              "      <td>1.4</td>\n",
              "      <td>0.2</td>\n",
              "    </tr>\n",
              "  </tbody>\n",
              "</table>\n",
              "</div>"
            ],
            "text/plain": [
              "   sepal length (cm)  sepal width (cm)  petal length (cm)  petal width (cm)\n",
              "0                5.1               3.5                1.4               0.2\n",
              "1                4.9               3.0                1.4               0.2\n",
              "2                4.7               3.2                1.3               0.2\n",
              "3                4.6               3.1                1.5               0.2\n",
              "4                5.0               3.6                1.4               0.2"
            ]
          },
          "metadata": {
            "tags": []
          },
          "execution_count": 12
        }
      ]
    },
    {
      "cell_type": "markdown",
      "metadata": {
        "id": "AitmMG47hVkg"
      },
      "source": [
        "## find the optimum value of n-cluster\n",
        "### for finding a best value of no. of cluster ,it is a graphical formation plot between x and y\n",
        "###where\n",
        "### x= number of cluster\n",
        "###      y=wcss(within cluster sum of square)"
      ]
    },
    {
      "cell_type": "code",
      "metadata": {
        "colab": {
          "base_uri": "https://localhost:8080/",
          "height": 295
        },
        "id": "TzbYKxdghOQy",
        "outputId": "44ee4688-9adf-4fc4-fe85-5f6f477eea15"
      },
      "source": [
        "from sklearn.cluster import KMeans\n",
        "\n",
        "wcss=[]\n",
        "\n",
        "for i in range(1,8):\n",
        "  model=KMeans(n_clusters=i,init='k-means++',random_state=42)\n",
        "  model.fit(data)\n",
        "  wcss.append(model.inertia_)\n",
        "\n",
        "plt.plot(range(1,8),wcss)\n",
        "plt.title('Elbow method')\n",
        "plt.xlabel('Number of cluster')\n",
        "plt.ylabel('WCSS value')\n",
        "plt.show()\n"
      ],
      "execution_count": 13,
      "outputs": [
        {
          "output_type": "display_data",
          "data": {
            "image/png": "[encoded data removed]",
            "text/plain": [
              "<Figure size 432x288 with 1 Axes>"
            ]
          },
          "metadata": {
            "tags": [],
            "needs_background": "light"
          }
        }
      ]
    },
    {
      "cell_type": "markdown",
      "metadata": {
        "id": "VVcXYbRTkGaG"
      },
      "source": [
        "##Elbow curve--- \n",
        "###A point where the curve started continiouly decreases that is the optimum value of k\n",
        "### the curve is continiouly decreses after the 3 so k=3 is optimum value"
      ]
    },
    {
      "cell_type": "code",
      "metadata": {
        "id": "8NBI9CNQk1eH"
      },
      "source": [
        "x=data.iloc[:,[0,1,2,3]].values"
      ],
      "execution_count": 15,
      "outputs": []
    },
    {
      "cell_type": "markdown",
      "metadata": {
        "id": "urBNzZJ8lp88"
      },
      "source": [
        "apply K-Mean clustering on the dataset"
      ]
    },
    {
      "cell_type": "code",
      "metadata": {
        "colab": {
          "base_uri": "https://localhost:8080/"
        },
        "id": "CezKWcQakk_e",
        "outputId": "43cbbfcf-639d-4094-cfca-405079394309"
      },
      "source": [
        "model=KMeans(n_clusters=3,init='k-means++',random_state=42)\n",
        "\n",
        "\n",
        "y_pred=model.fit_predict(x)\n",
        "\n",
        "print(y_pred)\n"
      ],
      "execution_count": 21,
      "outputs": [
        {
          "output_type": "stream",
          "text": [
            "[1 1 1 1 1 1 1 1 1 1 1 1 1 1 1 1 1 1 1 1 1 1 1 1 1 1 1 1 1 1 1 1 1 1 1 1 1\n",
            " 1 1 1 1 1 1 1 1 1 1 1 1 1 0 0 2 0 0 0 0 0 0 0 0 0 0 0 0 0 0 0 0 0 0 0 0 0\n",
            " 0 0 0 2 0 0 0 0 0 0 0 0 0 0 0 0 0 0 0 0 0 0 0 0 0 0 2 0 2 2 2 2 0 2 2 2 2\n",
            " 2 2 0 0 2 2 2 2 0 2 0 2 0 2 2 0 0 2 2 2 2 2 0 2 2 2 2 0 2 2 2 0 2 2 2 0 2\n",
            " 2 0]\n"
          ],
          "name": "stdout"
        }
      ]
    },
    {
      "cell_type": "markdown",
      "metadata": {
        "id": "b22XV1v6m79R"
      },
      "source": [
        "## Visualising the clusters-for first 2 columns\n"
      ]
    },
    {
      "cell_type": "code",
      "metadata": {
        "colab": {
          "base_uri": "https://localhost:8080/",
          "height": 300
        },
        "id": "hBVP5Y5MmlFf",
        "outputId": "8af95ca8-462f-4301-8ee5-c5829d990bc4"
      },
      "source": [
        "plt.scatter(x[y_pred == 0, 0], x[y_pred == 0, 1],\n",
        "            s = 100, c = 'red', label = 'setosa')\n",
        "plt.scatter(x[y_pred == 1, 0], x[y_pred == 1, 1], \n",
        "            s = 100, c = 'blue', label = 'versicolour')\n",
        "plt.scatter(x[y_pred == 2, 0], x[y_pred == 2, 1],\n",
        "            s = 100, c = 'green', label = '-virginica')\n",
        "\n",
        "# Plotting the centroids of the clusters\n",
        "plt.scatter(model.cluster_centers_[:, 0], model.cluster_centers_[:,1], \n",
        "            s = 100, c = 'yellow', label = 'Centroids')\n",
        "plt.xlabel('sepal length')\n",
        "plt.ylabel('sepal width')\n",
        "\n",
        "plt.legend()"
      ],
      "execution_count": 27,
      "outputs": [
        {
          "output_type": "execute_result",
          "data": {
            "text/plain": [
              "<matplotlib.legend.Legend at 0x7fad8cff94e0>"
            ]
          },
          "metadata": {
            "tags": []
          },
          "execution_count": 27
        },
        {
          "output_type": "display_data",
          "data": {
            "image/png": "[encoded data removed]",
            "text/plain": [
              "<Figure size 432x288 with 1 Axes>"
            ]
          },
          "metadata": {
            "tags": [],
            "needs_background": "light"
          }
        }
      ]
    }
  ]
}