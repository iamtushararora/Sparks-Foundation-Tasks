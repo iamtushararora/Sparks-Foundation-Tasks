{
  "nbformat": 4,
  "nbformat_minor": 0,
  "metadata": {
    "colab": {
      "name": "Task1.ipynb",
      "provenance": [],
      "collapsed_sections": []
    },
    "kernelspec": {
      "name": "python3",
      "display_name": "Python 3"
    }
  },
  "cells": [
    {
      "cell_type": "markdown",
      "metadata": {
        "id": "D9x6-pNR84lS"
      },
      "source": [
        "# The Sparks Foundation"
      ]
    },
    {
      "cell_type": "markdown",
      "metadata": {
        "id": "MfWGiXIn9A58"
      },
      "source": [
        "By: Tushar Arora"
      ]
    },
    {
      "cell_type": "markdown",
      "metadata": {
        "id": "jXvidPm8nc6K"
      },
      "source": [
        "# Predict the result when student study 9.25 hours Per Day"
      ]
    },
    {
      "cell_type": "markdown",
      "metadata": {
        "id": "6of5nqCBnqd9"
      },
      "source": [
        "import the libraries"
      ]
    },
    {
      "cell_type": "code",
      "metadata": {
        "id": "B_NO4zh7nwNN"
      },
      "source": [
        "import pandas as pd\n",
        "import matplotlib.pyplot as plt\n",
        "import seaborn as sns\n"
      ],
      "execution_count": null,
      "outputs": []
    },
    {
      "cell_type": "markdown",
      "metadata": {
        "id": "MXWfggpPn9m-"
      },
      "source": [
        "insert the data from external source"
      ]
    },
    {
      "cell_type": "code",
      "metadata": {
        "id": "BNkCY0F2oD03",
        "colab": {
          "base_uri": "https://localhost:8080/",
          "height": 203
        },
        "outputId": "ed70fb49-76b5-456e-9fc5-eb207d155a00"
      },
      "source": [
        "url= \"https://bit.ly/w-data\"\n",
        "data=pd.read_csv(url)\n",
        "data.head()"
      ],
      "execution_count": null,
      "outputs": [
        {
          "output_type": "execute_result",
          "data": {
            "text/html": [
              "<div>\n",
              "<style scoped>\n",
              "    .dataframe tbody tr th:only-of-type {\n",
              "        vertical-align: middle;\n",
              "    }\n",
              "\n",
              "    .dataframe tbody tr th {\n",
              "        vertical-align: top;\n",
              "    }\n",
              "\n",
              "    .dataframe thead th {\n",
              "        text-align: right;\n",
              "    }\n",
              "</style>\n",
              "<table border=\"1\" class=\"dataframe\">\n",
              "  <thead>\n",
              "    <tr style=\"text-align: right;\">\n",
              "      <th></th>\n",
              "      <th>Hours</th>\n",
              "      <th>Scores</th>\n",
              "    </tr>\n",
              "  </thead>\n",
              "  <tbody>\n",
              "    <tr>\n",
              "      <th>0</th>\n",
              "      <td>2.5</td>\n",
              "      <td>21</td>\n",
              "    </tr>\n",
              "    <tr>\n",
              "      <th>1</th>\n",
              "      <td>5.1</td>\n",
              "      <td>47</td>\n",
              "    </tr>\n",
              "    <tr>\n",
              "      <th>2</th>\n",
              "      <td>3.2</td>\n",
              "      <td>27</td>\n",
              "    </tr>\n",
              "    <tr>\n",
              "      <th>3</th>\n",
              "      <td>8.5</td>\n",
              "      <td>75</td>\n",
              "    </tr>\n",
              "    <tr>\n",
              "      <th>4</th>\n",
              "      <td>3.5</td>\n",
              "      <td>30</td>\n",
              "    </tr>\n",
              "  </tbody>\n",
              "</table>\n",
              "</div>"
            ],
            "text/plain": [
              "   Hours  Scores\n",
              "0    2.5      21\n",
              "1    5.1      47\n",
              "2    3.2      27\n",
              "3    8.5      75\n",
              "4    3.5      30"
            ]
          },
          "metadata": {
            "tags": []
          },
          "execution_count": 2
        }
      ]
    },
    {
      "cell_type": "markdown",
      "metadata": {
        "id": "0TKp77LVotc6"
      },
      "source": [
        "Data Exploration"
      ]
    },
    {
      "cell_type": "code",
      "metadata": {
        "id": "6V38k64ToxZB",
        "colab": {
          "base_uri": "https://localhost:8080/"
        },
        "outputId": "8a67e739-a6b6-496e-d284-9a424633b0a4"
      },
      "source": [
        "data.info()"
      ],
      "execution_count": null,
      "outputs": [
        {
          "output_type": "stream",
          "text": [
            "<class 'pandas.core.frame.DataFrame'>\n",
            "RangeIndex: 25 entries, 0 to 24\n",
            "Data columns (total 2 columns):\n",
            " #   Column  Non-Null Count  Dtype  \n",
            "---  ------  --------------  -----  \n",
            " 0   Hours   25 non-null     float64\n",
            " 1   Scores  25 non-null     int64  \n",
            "dtypes: float64(1), int64(1)\n",
            "memory usage: 528.0 bytes\n"
          ],
          "name": "stdout"
        }
      ]
    },
    {
      "cell_type": "code",
      "metadata": {
        "id": "kRG0jn1Yo3iX",
        "colab": {
          "base_uri": "https://localhost:8080/",
          "height": 293
        },
        "outputId": "17c65adc-d951-4b3c-838c-b07a9f9c8988"
      },
      "source": [
        "data.describe()"
      ],
      "execution_count": null,
      "outputs": [
        {
          "output_type": "execute_result",
          "data": {
            "text/html": [
              "<div>\n",
              "<style scoped>\n",
              "    .dataframe tbody tr th:only-of-type {\n",
              "        vertical-align: middle;\n",
              "    }\n",
              "\n",
              "    .dataframe tbody tr th {\n",
              "        vertical-align: top;\n",
              "    }\n",
              "\n",
              "    .dataframe thead th {\n",
              "        text-align: right;\n",
              "    }\n",
              "</style>\n",
              "<table border=\"1\" class=\"dataframe\">\n",
              "  <thead>\n",
              "    <tr style=\"text-align: right;\">\n",
              "      <th></th>\n",
              "      <th>Hours</th>\n",
              "      <th>Scores</th>\n",
              "    </tr>\n",
              "  </thead>\n",
              "  <tbody>\n",
              "    <tr>\n",
              "      <th>count</th>\n",
              "      <td>25.000000</td>\n",
              "      <td>25.000000</td>\n",
              "    </tr>\n",
              "    <tr>\n",
              "      <th>mean</th>\n",
              "      <td>5.012000</td>\n",
              "      <td>51.480000</td>\n",
              "    </tr>\n",
              "    <tr>\n",
              "      <th>std</th>\n",
              "      <td>2.525094</td>\n",
              "      <td>25.286887</td>\n",
              "    </tr>\n",
              "    <tr>\n",
              "      <th>min</th>\n",
              "      <td>1.100000</td>\n",
              "      <td>17.000000</td>\n",
              "    </tr>\n",
              "    <tr>\n",
              "      <th>25%</th>\n",
              "      <td>2.700000</td>\n",
              "      <td>30.000000</td>\n",
              "    </tr>\n",
              "    <tr>\n",
              "      <th>50%</th>\n",
              "      <td>4.800000</td>\n",
              "      <td>47.000000</td>\n",
              "    </tr>\n",
              "    <tr>\n",
              "      <th>75%</th>\n",
              "      <td>7.400000</td>\n",
              "      <td>75.000000</td>\n",
              "    </tr>\n",
              "    <tr>\n",
              "      <th>max</th>\n",
              "      <td>9.200000</td>\n",
              "      <td>95.000000</td>\n",
              "    </tr>\n",
              "  </tbody>\n",
              "</table>\n",
              "</div>"
            ],
            "text/plain": [
              "           Hours     Scores\n",
              "count  25.000000  25.000000\n",
              "mean    5.012000  51.480000\n",
              "std     2.525094  25.286887\n",
              "min     1.100000  17.000000\n",
              "25%     2.700000  30.000000\n",
              "50%     4.800000  47.000000\n",
              "75%     7.400000  75.000000\n",
              "max     9.200000  95.000000"
            ]
          },
          "metadata": {
            "tags": []
          },
          "execution_count": 5
        }
      ]
    },
    {
      "cell_type": "markdown",
      "metadata": {
        "id": "csOkidlSGSnk"
      },
      "source": [
        "Distribution of Data"
      ]
    },
    {
      "cell_type": "code",
      "metadata": {
        "id": "ehPSlaPto_WD",
        "colab": {
          "base_uri": "https://localhost:8080/",
          "height": 352
        },
        "outputId": "1f5e6d8b-79bb-4d9c-e769-eb0a888baec2"
      },
      "source": [
        "sns.distplot(data['Hours'])"
      ],
      "execution_count": null,
      "outputs": [
        {
          "output_type": "stream",
          "text": [
            "/usr/local/lib/python3.6/dist-packages/seaborn/distributions.py:2551: FutureWarning: `distplot` is a deprecated function and will be removed in a future version. Please adapt your code to use either `displot` (a figure-level function with similar flexibility) or `histplot` (an axes-level function for histograms).\n",
            "  warnings.warn(msg, FutureWarning)\n"
          ],
          "name": "stderr"
        },
        {
          "output_type": "execute_result",
          "data": {
            "text/plain": [
              "<matplotlib.axes._subplots.AxesSubplot at 0x7fc7c4cd5be0>"
            ]
          },
          "metadata": {
            "tags": []
          },
          "execution_count": 4
        },
        {
          "output_type": "display_data",
          "data": {
            "image/png": "[encoded data removed]",
            "text/plain": [
              "<Figure size 432x288 with 1 Axes>"
            ]
          },
          "metadata": {
            "tags": [],
            "needs_background": "light"
          }
        }
      ]
    },
    {
      "cell_type": "code",
      "metadata": {
        "id": "fgQVAQW0pG07",
        "colab": {
          "base_uri": "https://localhost:8080/",
          "height": 352
        },
        "outputId": "68ace383-2ac4-4600-add2-7120feaf6114"
      },
      "source": [
        "sns.distplot(data['Scores'])"
      ],
      "execution_count": null,
      "outputs": [
        {
          "output_type": "stream",
          "text": [
            "/usr/local/lib/python3.6/dist-packages/seaborn/distributions.py:2551: FutureWarning: `distplot` is a deprecated function and will be removed in a future version. Please adapt your code to use either `displot` (a figure-level function with similar flexibility) or `histplot` (an axes-level function for histograms).\n",
            "  warnings.warn(msg, FutureWarning)\n"
          ],
          "name": "stderr"
        },
        {
          "output_type": "execute_result",
          "data": {
            "text/plain": [
              "<matplotlib.axes._subplots.AxesSubplot at 0x7fc7c4bedeb8>"
            ]
          },
          "metadata": {
            "tags": []
          },
          "execution_count": 5
        },
        {
          "output_type": "display_data",
          "data": {
            "image/png": "[encoded data removed]",
            "text/plain": [
              "<Figure size 432x288 with 1 Axes>"
            ]
          },
          "metadata": {
            "tags": [],
            "needs_background": "light"
          }
        }
      ]
    },
    {
      "cell_type": "markdown",
      "metadata": {
        "id": "XUK6QsiqGX4o"
      },
      "source": [
        "Data is not Distributed too much in Variance so there is no need of Standard Scaling"
      ]
    },
    {
      "cell_type": "markdown",
      "metadata": {
        "id": "sPAn_D6s9smz"
      },
      "source": [
        "Check the relation between hours and scores"
      ]
    },
    {
      "cell_type": "code",
      "metadata": {
        "id": "_X-JDB8LpPNE",
        "colab": {
          "base_uri": "https://localhost:8080/",
          "height": 279
        },
        "outputId": "3cd2779d-5ba5-44d1-b644-c18a284ee06a"
      },
      "source": [
        "plt.scatter(x='Hours',y='Scores',linewidths=4,data=data)\n",
        "plt.xlabel('Hours')\n",
        "plt.ylabel('Scores')\n",
        "plt.show()"
      ],
      "execution_count": null,
      "outputs": [
        {
          "output_type": "display_data",
          "data": {
            "image/png": "[encoded data removed]",
            "text/plain": [
              "<Figure size 432x288 with 1 Axes>"
            ]
          },
          "metadata": {
            "tags": [],
            "needs_background": "light"
          }
        }
      ]
    },
    {
      "cell_type": "markdown",
      "metadata": {
        "id": "DHqfoSWOpvc6"
      },
      "source": [
        "*Score is increasing as the data no. of hours are incresing*"
      ]
    },
    {
      "cell_type": "markdown",
      "metadata": {
        "id": "pbf8hMUVp7ox"
      },
      "source": [
        "variable and feature selection"
      ]
    },
    {
      "cell_type": "code",
      "metadata": {
        "id": "gFAV6jkepujM"
      },
      "source": [
        "y=data.iloc[:,1].values\n",
        "x=data.iloc[:,:-1].values"
      ],
      "execution_count": null,
      "outputs": []
    },
    {
      "cell_type": "markdown",
      "metadata": {
        "id": "XBUU7fviqTvA"
      },
      "source": [
        "split the data for train and test"
      ]
    },
    {
      "cell_type": "code",
      "metadata": {
        "id": "06NUMYkkqW8y"
      },
      "source": [
        "from sklearn.model_selection import train_test_split\n",
        "x_train,x_test,y_train,y_test=train_test_split(x,y,test_size=0.20,random_state=42)\n"
      ],
      "execution_count": null,
      "outputs": []
    },
    {
      "cell_type": "markdown",
      "metadata": {
        "id": "GKgmpqwpqpVI"
      },
      "source": [
        "model selection\n",
        "\n"
      ]
    },
    {
      "cell_type": "code",
      "metadata": {
        "id": "uEbtXEzvqr5p"
      },
      "source": [
        "from sklearn.linear_model import LinearRegression\n",
        "model=LinearRegression()\n"
      ],
      "execution_count": null,
      "outputs": []
    },
    {
      "cell_type": "markdown",
      "metadata": {
        "id": "dBRejB5jq7_z"
      },
      "source": [
        "Train the model"
      ]
    },
    {
      "cell_type": "code",
      "metadata": {
        "id": "cELDCaFyq_Wn",
        "colab": {
          "base_uri": "https://localhost:8080/"
        },
        "outputId": "9ec86af3-dfd5-4a36-c85a-556c97f2ff8e"
      },
      "source": [
        "model.fit(x_train,y_train)"
      ],
      "execution_count": null,
      "outputs": [
        {
          "output_type": "execute_result",
          "data": {
            "text/plain": [
              "LinearRegression(copy_X=True, fit_intercept=True, n_jobs=None, normalize=False)"
            ]
          },
          "metadata": {
            "tags": []
          },
          "execution_count": 16
        }
      ]
    },
    {
      "cell_type": "markdown",
      "metadata": {
        "id": "Fj4cXGanrFMb"
      },
      "source": [
        "test the model on testing data"
      ]
    },
    {
      "cell_type": "code",
      "metadata": {
        "id": "r2B6NwCsrK1C"
      },
      "source": [
        "y_pred=model.predict(x_test)"
      ],
      "execution_count": null,
      "outputs": []
    },
    {
      "cell_type": "markdown",
      "metadata": {
        "id": "wj5p6bkpGRK_"
      },
      "source": [
        "Compare the prediction and actual result"
      ]
    },
    {
      "cell_type": "code",
      "metadata": {
        "id": "llCG2UwjGW8t",
        "colab": {
          "base_uri": "https://localhost:8080/"
        },
        "outputId": "fd27a6fd-c609-42ef-e179-18852f65e31c"
      },
      "source": [
        "comp=pd.DataFrame({\n",
        "    'Actual':y_test,\n",
        "    'Predicted':y_pred\n",
        "})\n",
        "print(comp)"
      ],
      "execution_count": null,
      "outputs": [
        {
          "output_type": "stream",
          "text": [
            "   Actual  Predicted\n",
            "0      81  83.107332\n",
            "1      30  26.765598\n",
            "2      21  26.765598\n",
            "3      76  69.507603\n",
            "4      62  59.793511\n",
            "5      25  28.708416\n",
            "6      42  34.536871\n"
          ],
          "name": "stdout"
        }
      ]
    },
    {
      "cell_type": "code",
      "metadata": {
        "id": "Kd-DP7FyG63J"
      },
      "source": [
        "c=model.intercept_\n",
        "m=model.coef_\n",
        "line=m*x+c"
      ],
      "execution_count": null,
      "outputs": []
    },
    {
      "cell_type": "code",
      "metadata": {
        "id": "IyoulSTZGsZI",
        "colab": {
          "base_uri": "https://localhost:8080/",
          "height": 295
        },
        "outputId": "30f70d27-d78a-438e-977d-42e0f6dd8d20"
      },
      "source": [
        "plt.scatter(x='Hours',y='Scores',linewidth=3,edgecolors='red',data=data)\n",
        "plt.plot(x,line)\n",
        "plt.xlabel('Hours per day')\n",
        "plt.ylabel('Score')\n",
        "plt.title('Scores vs Houres')\n",
        "plt.show()"
      ],
      "execution_count": null,
      "outputs": [
        {
          "output_type": "display_data",
          "data": {
            "image/png": "[encoded data removed]",
            "text/plain": [
              "<Figure size 432x288 with 1 Axes>"
            ]
          },
          "metadata": {
            "tags": [],
            "needs_background": "light"
          }
        }
      ]
    },
    {
      "cell_type": "markdown",
      "metadata": {
        "id": "lt60fxRBLBvh"
      },
      "source": [
        "Predict the result on 9.25 hours per day"
      ]
    },
    {
      "cell_type": "code",
      "metadata": {
        "id": "w080vH2mLBSJ",
        "colab": {
          "base_uri": "https://localhost:8080/"
        },
        "outputId": "2ae17793-774a-4002-fe4c-750dd5e0d7ef"
      },
      "source": [
        "input_=[9.25]\n",
        "output_=model.predict([input_])\n",
        "print(\"No of Hours = {}\".format(input_[0]))\n",
        "print(\"Predicted Score = {}\".format(output_[0]))\n"
      ],
      "execution_count": null,
      "outputs": [
        {
          "output_type": "stream",
          "text": [
            "No of Hours = 9.25\n",
            "Predicted Score = 92.38611528261494\n"
          ],
          "name": "stdout"
        }
      ]
    },
    {
      "cell_type": "markdown",
      "metadata": {
        "id": "GbcsMsfiQrIY"
      },
      "source": [
        "Evaluating the model performance "
      ]
    },
    {
      "cell_type": "code",
      "metadata": {
        "id": "u6qJDexnQqaQ",
        "colab": {
          "base_uri": "https://localhost:8080/"
        },
        "outputId": "93174065-4540-4813-e322-22db1d4c7af4"
      },
      "source": [
        "from sklearn.metrics import *\n",
        "MAE=mean_absolute_error(y_test,y_pred)\n",
        "print(MAE)"
      ],
      "execution_count": null,
      "outputs": [
        {
          "output_type": "stream",
          "text": [
            "3.9207511902099244\n"
          ],
          "name": "stdout"
        }
      ]
    }
  ]
}